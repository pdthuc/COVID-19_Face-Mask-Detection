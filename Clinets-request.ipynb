{
 "cells": [
  {
   "cell_type": "code",
   "execution_count": 86,
   "id": "3586ea3c",
   "metadata": {},
   "outputs": [
    {
     "name": "stdout",
     "output_type": "stream",
     "text": [
      "{\r\n",
      " \"model_version_status\": [\r\n",
      "  {\r\n",
      "   \"version\": \"1\",\r\n",
      "   \"state\": \"AVAILABLE\",\r\n",
      "   \"status\": {\r\n",
      "    \"error_code\": \"OK\",\r\n",
      "    \"error_message\": \"\"\r\n",
      "   }\r\n",
      "  }\r\n",
      " ]\r\n",
      "}\r\n"
     ]
    }
   ],
   "source": [
    "!curl localhost:8501/v1/models/face-mask-detection-serving "
   ]
  },
  {
   "cell_type": "code",
   "execution_count": 81,
   "id": "414386ac",
   "metadata": {},
   "outputs": [],
   "source": [
    "from tensorflow.keras.preprocessing.image import img_to_array\n",
    "from tensorflow.keras.preprocessing.image import load_img\n",
    "from imutils import paths\n",
    "import numpy as np\n",
    "import tensorflow as tf\n",
    "from sklearn.metrics import accuracy_score, f1_score\n",
    "import json\n",
    "import requests\n",
    "\n",
    "pathname = \"testset\"\n",
    "imagePaths = list(paths.list_images(pathname))"
   ]
  },
  {
   "cell_type": "code",
   "execution_count": 82,
   "id": "983cb3b4",
   "metadata": {},
   "outputs": [],
   "source": [
    "MAP_CHARACTERS= {1: 'No Mask',\n",
    "                0: 'Mask'}"
   ]
  },
  {
   "cell_type": "code",
   "execution_count": 83,
   "id": "097b4e5d",
   "metadata": {},
   "outputs": [
    {
     "data": {
      "text/plain": [
       "'No Mask'"
      ]
     },
     "execution_count": 83,
     "metadata": {},
     "output_type": "execute_result"
    }
   ],
   "source": [
    "# Apply the same preprocessing as during training (resize and rescale)\n",
    "image = tf.io.decode_image(open('testset/NoMask/frame_2021_12_21_16_10_05_0_1.jpg', 'rb').read(), channels=3)\n",
    "image = tf.image.resize(image, [224, 224])\n",
    "image = image/255.\n",
    "# Convert the Tensor to a batch of Tensors and then to a list\n",
    "image_tensor = tf.expand_dims(image, 0)\n",
    "image_tensor = image_tensor.numpy().tolist()\n",
    "# Define the endpoint with the format: http://localhost:8501/v1/models/MODEL_NAME:predict\n",
    "endpoint = \"http://localhost:8501/v1/models/face-mask-detection-serving:predict\"\n",
    "\n",
    "# Prepare the data that is going to be sent in the POST request\n",
    "json_data = json.dumps({\n",
    "  \"instances\": image_tensor\n",
    "})\n",
    "\n",
    "# Send the request to the Prediction API\n",
    "headers = {\"content-type\": \"application/json\"}\n",
    "response = requests.post(url=\"http://localhost:8501/v1/models/face-mask-detection-serving:predict\", data=json_data, headers=headers)\n",
    "\n",
    "# Retrieve the highest probablity index of the Tensor (actual prediction)\n",
    "prediction = tf.argmax(response.json()['predictions'], 1).numpy()[0]\n",
    "# print(MAP_CHARACTERS[prediction.numpy()])\n",
    "# >>> \"homer_simpson\"\n",
    "MAP_CHARACTERS[prediction]"
   ]
  },
  {
   "cell_type": "code",
   "execution_count": 84,
   "id": "b90cf085",
   "metadata": {},
   "outputs": [
    {
     "name": "stdout",
     "output_type": "stream",
     "text": [
      "No Mask\n"
     ]
    }
   ],
   "source": [
    "import grpc\n",
    "\n",
    "from tensorflow_serving.apis import predict_pb2, prediction_service_pb2_grpc\n",
    "\n",
    "# Apply the same preprocessing as during training (resize and rescale)\n",
    "image = tf.io.decode_image(open('testset/NoMask/frame_2021_12_17_10_43_04_0.jpg', 'rb').read(), channels=3)\n",
    "image = tf.image.resize(image, [224, 224])\n",
    "image = image/255.\n",
    "\n",
    "# Convert the Tensor to a batch of Tensors and then to a list\n",
    "image_tensor = tf.expand_dims(image, 0)\n",
    "image_tensor = image_tensor.numpy().tolist()\n",
    "\n",
    "# Optional: define a custom message lenght in bytes\n",
    "MAX_MESSAGE_LENGTH = 20000000\n",
    "\n",
    "# Optional: define a request timeout in seconds\n",
    "REQUEST_TIMEOUT = 5\n",
    "\n",
    "# Open a gRPC insecure channel\n",
    "channel = grpc.insecure_channel(\n",
    "    \"localhost:8500\",\n",
    "    options=[\n",
    "        (\"grpc.max_send_message_length\", MAX_MESSAGE_LENGTH),\n",
    "        (\"grpc.max_receive_message_length\", MAX_MESSAGE_LENGTH),\n",
    "    ],\n",
    ")\n",
    "\n",
    "# Create the PredictionServiceStub\n",
    "stub = prediction_service_pb2_grpc.PredictionServiceStub(channel)\n",
    "\n",
    "# Create the PredictRequest and set its values\n",
    "req = predict_pb2.PredictRequest()\n",
    "req.model_spec.name = 'face-mask-detection-serving'\n",
    "req.model_spec.signature_name = ''\n",
    "\n",
    "# Convert to Tensor Proto and send the request\n",
    "# Note that shape is in NHWC (num_samples x height x width x channels) format\n",
    "tensor = tf.make_tensor_proto(image_tensor)\n",
    "req.inputs[\"input_1\"].CopyFrom(tensor)  # Available at /metadata\n",
    "\n",
    "# Send request\n",
    "response = stub.Predict(req, REQUEST_TIMEOUT)\n",
    "\n",
    "# Handle request's response\n",
    "output_tensor_proto = response.outputs[\"dense_1\"]  # Available at /metadata\n",
    "shape = tf.TensorShape(output_tensor_proto.tensor_shape)\n",
    "\n",
    "result = tf.reshape(output_tensor_proto.float_val, shape)\n",
    "result = tf.argmax(result, 1).numpy()[0]\n",
    "print(MAP_CHARACTERS[result])\n"
   ]
  },
  {
   "cell_type": "code",
   "execution_count": null,
   "id": "11fd4127",
   "metadata": {},
   "outputs": [],
   "source": []
  }
 ],
 "metadata": {
  "kernelspec": {
   "display_name": "Python 3",
   "language": "python",
   "name": "python3"
  },
  "language_info": {
   "codemirror_mode": {
    "name": "ipython",
    "version": 3
   },
   "file_extension": ".py",
   "mimetype": "text/x-python",
   "name": "python",
   "nbconvert_exporter": "python",
   "pygments_lexer": "ipython3",
   "version": "3.6.9"
  }
 },
 "nbformat": 4,
 "nbformat_minor": 5
}
